{
 "cells": [
  {
   "cell_type": "code",
   "execution_count": 1,
   "metadata": {
    "collapsed": true
   },
   "outputs": [],
   "source": [
    "%matplotlib inline\n"
   ]
  },
  {
   "cell_type": "code",
   "execution_count": 2,
   "metadata": {
    "collapsed": true
   },
   "outputs": [],
   "source": [
    "import numpy as np\n",
    "import pandas as pd\n",
    "from ggplot import mtcars\n",
    "import matplotlib\n",
    "import matplotlib.pyplot as plt\n",
    "import scipy.stats as stats\n",
    "matplotlib.style.use('ggplot')"
   ]
  },
  {
   "cell_type": "markdown",
   "metadata": {},
   "source": [
    "### Linear Regression Basics"
   ]
  },
  {
   "cell_type": "code",
   "execution_count": 3,
   "metadata": {},
   "outputs": [
    {
     "data": {
      "text/html": [
       "<div>\n",
       "<table border=\"1\" class=\"dataframe\">\n",
       "  <thead>\n",
       "    <tr style=\"text-align: right;\">\n",
       "      <th></th>\n",
       "      <th>name</th>\n",
       "      <th>mpg</th>\n",
       "      <th>cyl</th>\n",
       "      <th>disp</th>\n",
       "      <th>hp</th>\n",
       "      <th>drat</th>\n",
       "      <th>wt</th>\n",
       "      <th>qsec</th>\n",
       "      <th>vs</th>\n",
       "      <th>am</th>\n",
       "      <th>gear</th>\n",
       "      <th>carb</th>\n",
       "    </tr>\n",
       "  </thead>\n",
       "  <tbody>\n",
       "    <tr>\n",
       "      <th>0</th>\n",
       "      <td>Mazda RX4</td>\n",
       "      <td>21.0</td>\n",
       "      <td>6</td>\n",
       "      <td>160.0</td>\n",
       "      <td>110</td>\n",
       "      <td>3.90</td>\n",
       "      <td>2.620</td>\n",
       "      <td>16.46</td>\n",
       "      <td>0</td>\n",
       "      <td>1</td>\n",
       "      <td>4</td>\n",
       "      <td>4</td>\n",
       "    </tr>\n",
       "    <tr>\n",
       "      <th>1</th>\n",
       "      <td>Mazda RX4 Wag</td>\n",
       "      <td>21.0</td>\n",
       "      <td>6</td>\n",
       "      <td>160.0</td>\n",
       "      <td>110</td>\n",
       "      <td>3.90</td>\n",
       "      <td>2.875</td>\n",
       "      <td>17.02</td>\n",
       "      <td>0</td>\n",
       "      <td>1</td>\n",
       "      <td>4</td>\n",
       "      <td>4</td>\n",
       "    </tr>\n",
       "    <tr>\n",
       "      <th>2</th>\n",
       "      <td>Datsun 710</td>\n",
       "      <td>22.8</td>\n",
       "      <td>4</td>\n",
       "      <td>108.0</td>\n",
       "      <td>93</td>\n",
       "      <td>3.85</td>\n",
       "      <td>2.320</td>\n",
       "      <td>18.61</td>\n",
       "      <td>1</td>\n",
       "      <td>1</td>\n",
       "      <td>4</td>\n",
       "      <td>1</td>\n",
       "    </tr>\n",
       "    <tr>\n",
       "      <th>3</th>\n",
       "      <td>Hornet 4 Drive</td>\n",
       "      <td>21.4</td>\n",
       "      <td>6</td>\n",
       "      <td>258.0</td>\n",
       "      <td>110</td>\n",
       "      <td>3.08</td>\n",
       "      <td>3.215</td>\n",
       "      <td>19.44</td>\n",
       "      <td>1</td>\n",
       "      <td>0</td>\n",
       "      <td>3</td>\n",
       "      <td>1</td>\n",
       "    </tr>\n",
       "    <tr>\n",
       "      <th>4</th>\n",
       "      <td>Hornet Sportabout</td>\n",
       "      <td>18.7</td>\n",
       "      <td>8</td>\n",
       "      <td>360.0</td>\n",
       "      <td>175</td>\n",
       "      <td>3.15</td>\n",
       "      <td>3.440</td>\n",
       "      <td>17.02</td>\n",
       "      <td>0</td>\n",
       "      <td>0</td>\n",
       "      <td>3</td>\n",
       "      <td>2</td>\n",
       "    </tr>\n",
       "  </tbody>\n",
       "</table>\n",
       "</div>"
      ],
      "text/plain": [
       "                name   mpg  cyl   disp   hp  drat     wt   qsec  vs  am  gear  \\\n",
       "0          Mazda RX4  21.0    6  160.0  110  3.90  2.620  16.46   0   1     4   \n",
       "1      Mazda RX4 Wag  21.0    6  160.0  110  3.90  2.875  17.02   0   1     4   \n",
       "2         Datsun 710  22.8    4  108.0   93  3.85  2.320  18.61   1   1     4   \n",
       "3     Hornet 4 Drive  21.4    6  258.0  110  3.08  3.215  19.44   1   0     3   \n",
       "4  Hornet Sportabout  18.7    8  360.0  175  3.15  3.440  17.02   0   0     3   \n",
       "\n",
       "   carb  \n",
       "0     4  \n",
       "1     4  \n",
       "2     1  \n",
       "3     1  \n",
       "4     2  "
      ]
     },
     "execution_count": 3,
     "metadata": {},
     "output_type": "execute_result"
    }
   ],
   "source": [
    "mtcars.head()"
   ]
  },
  {
   "cell_type": "code",
   "execution_count": 4,
   "metadata": {},
   "outputs": [
    {
     "data": {
      "text/html": [
       "<div>\n",
       "<table border=\"1\" class=\"dataframe\">\n",
       "  <thead>\n",
       "    <tr style=\"text-align: right;\">\n",
       "      <th></th>\n",
       "      <th>mpg</th>\n",
       "      <th>cyl</th>\n",
       "      <th>disp</th>\n",
       "      <th>hp</th>\n",
       "      <th>drat</th>\n",
       "      <th>wt</th>\n",
       "      <th>qsec</th>\n",
       "      <th>vs</th>\n",
       "      <th>am</th>\n",
       "      <th>gear</th>\n",
       "      <th>carb</th>\n",
       "    </tr>\n",
       "  </thead>\n",
       "  <tbody>\n",
       "    <tr>\n",
       "      <th>count</th>\n",
       "      <td>32.000000</td>\n",
       "      <td>32.000000</td>\n",
       "      <td>32.000000</td>\n",
       "      <td>32.000000</td>\n",
       "      <td>32.000000</td>\n",
       "      <td>32.000000</td>\n",
       "      <td>32.000000</td>\n",
       "      <td>32.000000</td>\n",
       "      <td>32.000000</td>\n",
       "      <td>32.000000</td>\n",
       "      <td>32.0000</td>\n",
       "    </tr>\n",
       "    <tr>\n",
       "      <th>mean</th>\n",
       "      <td>20.090625</td>\n",
       "      <td>6.187500</td>\n",
       "      <td>230.721875</td>\n",
       "      <td>146.687500</td>\n",
       "      <td>3.596563</td>\n",
       "      <td>3.217250</td>\n",
       "      <td>17.848750</td>\n",
       "      <td>0.437500</td>\n",
       "      <td>0.406250</td>\n",
       "      <td>3.687500</td>\n",
       "      <td>2.8125</td>\n",
       "    </tr>\n",
       "    <tr>\n",
       "      <th>std</th>\n",
       "      <td>6.026948</td>\n",
       "      <td>1.785922</td>\n",
       "      <td>123.938694</td>\n",
       "      <td>68.562868</td>\n",
       "      <td>0.534679</td>\n",
       "      <td>0.978457</td>\n",
       "      <td>1.786943</td>\n",
       "      <td>0.504016</td>\n",
       "      <td>0.498991</td>\n",
       "      <td>0.737804</td>\n",
       "      <td>1.6152</td>\n",
       "    </tr>\n",
       "    <tr>\n",
       "      <th>min</th>\n",
       "      <td>10.400000</td>\n",
       "      <td>4.000000</td>\n",
       "      <td>71.100000</td>\n",
       "      <td>52.000000</td>\n",
       "      <td>2.760000</td>\n",
       "      <td>1.513000</td>\n",
       "      <td>14.500000</td>\n",
       "      <td>0.000000</td>\n",
       "      <td>0.000000</td>\n",
       "      <td>3.000000</td>\n",
       "      <td>1.0000</td>\n",
       "    </tr>\n",
       "    <tr>\n",
       "      <th>25%</th>\n",
       "      <td>15.425000</td>\n",
       "      <td>4.000000</td>\n",
       "      <td>120.825000</td>\n",
       "      <td>96.500000</td>\n",
       "      <td>3.080000</td>\n",
       "      <td>2.581250</td>\n",
       "      <td>16.892500</td>\n",
       "      <td>0.000000</td>\n",
       "      <td>0.000000</td>\n",
       "      <td>3.000000</td>\n",
       "      <td>2.0000</td>\n",
       "    </tr>\n",
       "    <tr>\n",
       "      <th>50%</th>\n",
       "      <td>19.200000</td>\n",
       "      <td>6.000000</td>\n",
       "      <td>196.300000</td>\n",
       "      <td>123.000000</td>\n",
       "      <td>3.695000</td>\n",
       "      <td>3.325000</td>\n",
       "      <td>17.710000</td>\n",
       "      <td>0.000000</td>\n",
       "      <td>0.000000</td>\n",
       "      <td>4.000000</td>\n",
       "      <td>2.0000</td>\n",
       "    </tr>\n",
       "    <tr>\n",
       "      <th>75%</th>\n",
       "      <td>22.800000</td>\n",
       "      <td>8.000000</td>\n",
       "      <td>326.000000</td>\n",
       "      <td>180.000000</td>\n",
       "      <td>3.920000</td>\n",
       "      <td>3.610000</td>\n",
       "      <td>18.900000</td>\n",
       "      <td>1.000000</td>\n",
       "      <td>1.000000</td>\n",
       "      <td>4.000000</td>\n",
       "      <td>4.0000</td>\n",
       "    </tr>\n",
       "    <tr>\n",
       "      <th>max</th>\n",
       "      <td>33.900000</td>\n",
       "      <td>8.000000</td>\n",
       "      <td>472.000000</td>\n",
       "      <td>335.000000</td>\n",
       "      <td>4.930000</td>\n",
       "      <td>5.424000</td>\n",
       "      <td>22.900000</td>\n",
       "      <td>1.000000</td>\n",
       "      <td>1.000000</td>\n",
       "      <td>5.000000</td>\n",
       "      <td>8.0000</td>\n",
       "    </tr>\n",
       "  </tbody>\n",
       "</table>\n",
       "</div>"
      ],
      "text/plain": [
       "             mpg        cyl        disp          hp       drat         wt  \\\n",
       "count  32.000000  32.000000   32.000000   32.000000  32.000000  32.000000   \n",
       "mean   20.090625   6.187500  230.721875  146.687500   3.596563   3.217250   \n",
       "std     6.026948   1.785922  123.938694   68.562868   0.534679   0.978457   \n",
       "min    10.400000   4.000000   71.100000   52.000000   2.760000   1.513000   \n",
       "25%    15.425000   4.000000  120.825000   96.500000   3.080000   2.581250   \n",
       "50%    19.200000   6.000000  196.300000  123.000000   3.695000   3.325000   \n",
       "75%    22.800000   8.000000  326.000000  180.000000   3.920000   3.610000   \n",
       "max    33.900000   8.000000  472.000000  335.000000   4.930000   5.424000   \n",
       "\n",
       "            qsec         vs         am       gear     carb  \n",
       "count  32.000000  32.000000  32.000000  32.000000  32.0000  \n",
       "mean   17.848750   0.437500   0.406250   3.687500   2.8125  \n",
       "std     1.786943   0.504016   0.498991   0.737804   1.6152  \n",
       "min    14.500000   0.000000   0.000000   3.000000   1.0000  \n",
       "25%    16.892500   0.000000   0.000000   3.000000   2.0000  \n",
       "50%    17.710000   0.000000   0.000000   4.000000   2.0000  \n",
       "75%    18.900000   1.000000   1.000000   4.000000   4.0000  \n",
       "max    22.900000   1.000000   1.000000   5.000000   8.0000  "
      ]
     },
     "execution_count": 4,
     "metadata": {},
     "output_type": "execute_result"
    }
   ],
   "source": [
    "mtcars.describe()"
   ]
  },
  {
   "cell_type": "code",
   "execution_count": 5,
   "metadata": {},
   "outputs": [
    {
     "data": {
      "text/plain": [
       "<matplotlib.axes._subplots.AxesSubplot at 0xaed6208>"
      ]
     },
     "execution_count": 5,
     "metadata": {},
     "output_type": "execute_result"
    },
    {
     "data": {
      "image/png": "[encoded data removed]",
      "text/plain": [
       "<matplotlib.figure.Figure at 0xaea94a8>"
      ]
     },
     "metadata": {},
     "output_type": "display_data"
    }
   ],
   "source": [
    "mtcars.plot(kind=\"scatter\",\n",
    "           x=\"wt\",\n",
    "           y=\"mpg\",\n",
    "           figsize=(9,9),\n",
    "           color=\"black\")"
   ]
  },
  {
   "cell_type": "markdown",
   "metadata": {},
   "source": [
    "The scatterplot shows a roughly linear relationship between weight and mpg, suggesting a linear regression model might work well."
   ]
  },
  {
   "cell_type": "code",
   "execution_count": 6,
   "metadata": {
    "collapsed": true
   },
   "outputs": [],
   "source": [
    "from sklearn import linear_model"
   ]
  },
  {
   "cell_type": "code",
   "execution_count": 7,
   "metadata": {},
   "outputs": [
    {
     "name": "stdout",
     "output_type": "stream",
     "text": [
      "37.2851261673\n",
      "[-5.34447157]\n"
     ]
    }
   ],
   "source": [
    "# Initialize model\n",
    "regression_model = linear_model.LinearRegression()\n",
    "\n",
    "# Train the model using the mtcars data\n",
    "regression_model.fit(X = pd.DataFrame(mtcars[\"wt\"]), \n",
    "                     y = mtcars[\"mpg\"])\n",
    "\n",
    "# Check trained model y-intercept\n",
    "print(regression_model.intercept_)\n",
    "\n",
    "# Check trained model coefficients\n",
    "print(regression_model.coef_)"
   ]
  },
  {
   "cell_type": "markdown",
   "metadata": {},
   "source": [
    "The output above shows the model intercept and coefficients used to create the best fit line. In this case the y-intercept term is set to 37.2851 and the coefficient for the weight variable is -5.3445. In other words, the model fit the line mpg = 37.2851 - 5.3445*wt."
   ]
  },
  {
   "cell_type": "markdown",
   "metadata": {},
   "source": [
    "We can get a sense of how much of the variance in the response variable is explained by the model using the model.score() function:"
   ]
  },
  {
   "cell_type": "code",
   "execution_count": 8,
   "metadata": {},
   "outputs": [
    {
     "data": {
      "text/plain": [
       "0.75283279365826461"
      ]
     },
     "execution_count": 8,
     "metadata": {},
     "output_type": "execute_result"
    }
   ],
   "source": [
    "regression_model.score(X = pd.DataFrame(mtcars[\"wt\"]), \n",
    "                       y = mtcars[\"mpg\"])"
   ]
  },
  {
   "cell_type": "code",
   "execution_count": null,
   "metadata": {},
   "outputs": [],
   "source": []
  },
  {
   "cell_type": "markdown",
   "metadata": {},
   "source": [
    "The output of the score function for linear regression is \"R-squared\", a value that ranges from 0 to 1 which describes the proportion of variance in the response variable that is explained by the model. In this case, car weight explains roughly 75% of the variance in mpg.\n",
    "\n",
    "\n",
    "The R-squared measure is based on the residuals: differences between what the model predicts for each data point and the actual value of each data point. We can extract the model's residuals by making a prediction with the model on the data and then subtracting the actual value from each prediction:"
   ]
  },
  {
   "cell_type": "code",
   "execution_count": 9,
   "metadata": {},
   "outputs": [
    {
     "data": {
      "text/plain": [
       "count    3.200000e+01\n",
       "mean    -8.326673e-15\n",
       "std      2.996352e+00\n",
       "min     -4.543151e+00\n",
       "25%     -2.364709e+00\n",
       "50%     -1.251956e-01\n",
       "75%      1.409561e+00\n",
       "max      6.872711e+00\n",
       "Name: mpg, dtype: float64"
      ]
     },
     "execution_count": 9,
     "metadata": {},
     "output_type": "execute_result"
    }
   ],
   "source": [
    "train_prediction = regression_model.predict(X = pd.DataFrame(mtcars[\"wt\"]))\n",
    "\n",
    "# Actual - prediction = residuals\n",
    "residuals = mtcars[\"mpg\"] - train_prediction\n",
    "\n",
    "residuals.describe()"
   ]
  },
  {
   "cell_type": "markdown",
   "metadata": {},
   "source": [
    "R-squared is calculated as 1 - (SSResiduals/SSTotal) were SSResiduals is the sum of the squares of the model residuals and SSTotal is the sum of the squares of the difference between each data point and the mean of the data. We could calculate R-squared by hand like this:"
   ]
  },
  {
   "cell_type": "code",
   "execution_count": 10,
   "metadata": {},
   "outputs": [
    {
     "data": {
      "text/plain": [
       "0.75283279365826461"
      ]
     },
     "execution_count": 10,
     "metadata": {},
     "output_type": "execute_result"
    }
   ],
   "source": [
    "SSResiduals = (residuals**2).sum()\n",
    "\n",
    "SSTotal = ((mtcars[\"mpg\"] - mtcars[\"mpg\"].mean())**2).sum()\n",
    "\n",
    "# R-squared\n",
    "1 - (SSResiduals/SSTotal)"
   ]
  },
  {
   "cell_type": "markdown",
   "metadata": {},
   "source": [
    "Now that we have a linear model, let's plot the line it fits on our scatterplot to get a sense of how well it fits the data:"
   ]
  },
  {
   "cell_type": "code",
   "execution_count": 11,
   "metadata": {},
   "outputs": [
    {
     "name": "stdout",
     "output_type": "stream",
     "text": [
      "R squared: 0.7528327936582646, Adjusted R squared: 0.7445938867802068\n"
     ]
    },
    {
     "data": {
      "image/png": "[encoded data removed]",
      "text/plain": [
       "<matplotlib.figure.Figure at 0xb92fcc0>"
      ]
     },
     "metadata": {},
     "output_type": "display_data"
    }
   ],
   "source": [
    "\n",
    "mtcars.plot(kind=\"scatter\",\n",
    "           x=\"wt\",\n",
    "           y=\"mpg\",\n",
    "           figsize=(9,9),\n",
    "           color=\"black\",\n",
    "           xlim = (0,7))\n",
    "\n",
    "# Plot regression line\n",
    "plt.plot(mtcars[\"wt\"],      # Explanitory variable\n",
    "         train_prediction,  # Predicted values\n",
    "         color=\"blue\")\n",
    "print (\"R squared: {0}, Adjusted R squared: {1}\".format(regression_model.score(X=pd.DataFrame(mtcars[\"wt\"]), y=mtcars['mpg']),\n",
    "       1 - (1-regression_model.score(X=pd.DataFrame(mtcars[\"wt\"]), y=mtcars['mpg']))*(len(mtcars['mpg'])-1)/(len(mtcars['mpg'])-pd.DataFrame(mtcars[\"wt\"]).shape[1]-1)))"
   ]
  },
  {
   "cell_type": "markdown",
   "metadata": {},
   "source": [
    "Outliers can have a large influence on linear regression models: since regression deals with minimizing squared residuals, large residuals have a disproportionately large influence on the model. Plotting the result helps us detect influential outliers. In this case there does not appear to be any influential outliers. Let's add an outlier--a super heavy fuel efficient car--and plot a new regression model:"
   ]
  },
  {
   "cell_type": "code",
   "execution_count": 12,
   "metadata": {},
   "outputs": [
    {
     "data": {
      "text/plain": [
       "[<matplotlib.lines.Line2D at 0xb9245f8>]"
      ]
     },
     "execution_count": 12,
     "metadata": {},
     "output_type": "execute_result"
    },
    {
     "data": {
      "image/png": "[encoded data removed]",
      "text/plain": [
       "<matplotlib.figure.Figure at 0xb950748>"
      ]
     },
     "metadata": {},
     "output_type": "display_data"
    }
   ],
   "source": [
    "\n",
    "mtcars_subset = mtcars[[\"mpg\",\"wt\"]]\n",
    "\n",
    "super_car = pd.DataFrame({\"mpg\":50,\"wt\":10}, index=[\"super\"])\n",
    "\n",
    "new_cars = mtcars_subset.append(super_car)\n",
    "\n",
    "# Initialize model\n",
    "regression_model = linear_model.LinearRegression()\n",
    "\n",
    "# Train the model using the new_cars data\n",
    "regression_model.fit(X = pd.DataFrame(new_cars[\"wt\"]), \n",
    "                     y = new_cars[\"mpg\"])\n",
    "\n",
    "train_prediction2 = regression_model.predict(X = pd.DataFrame(new_cars[\"wt\"]))\n",
    "\n",
    "# Plot the new model\n",
    "new_cars.plot(kind=\"scatter\",\n",
    "           x=\"wt\",\n",
    "           y=\"mpg\",\n",
    "           figsize=(9,9),\n",
    "           color=\"black\", xlim=(1,11), ylim=(10,52))\n",
    "\n",
    "# Plot regression line\n",
    "plt.plot(new_cars[\"wt\"],     # Explanatory variable\n",
    "         train_prediction2,  # Predicted values\n",
    "         color=\"blue\")"
   ]
  },
  {
   "cell_type": "markdown",
   "metadata": {},
   "source": [
    "In a well-behaved linear regression model, we'd like the residuals to be roughly normally distributed. That is, we'd like a roughly even spread of error above and below the regression line. We can investigate the normality of residuals with a Q-Q (quantile-quantile) plot. Make a qqplot by passing the residuals to the stats.probplot() function in the scipy.stats library:"
   ]
  },
  {
   "cell_type": "code",
   "execution_count": 13,
   "metadata": {},
   "outputs": [
    {
     "data": {
      "text/plain": [
       "((array([-2.02511189, -1.62590278, -1.38593914, -1.20666642, -1.05953591,\n",
       "         -0.93235918, -0.81872017, -0.71478609, -0.6180591 , -0.52680137,\n",
       "         -0.43973827, -0.35589149, -0.27447843, -0.19484777, -0.11643566,\n",
       "         -0.03873405,  0.03873405,  0.11643566,  0.19484777,  0.27447843,\n",
       "          0.35589149,  0.43973827,  0.52680137,  0.6180591 ,  0.71478609,\n",
       "          0.81872017,  0.93235918,  1.05953591,  1.20666642,  1.38593914,\n",
       "          1.62590278,  2.02511189]),\n",
       "  array([-4.54315128, -3.90536265, -3.72686632, -3.46235533, -3.20536265,\n",
       "         -2.97258623, -2.78093991, -2.61100374, -2.28261065, -2.08595212,\n",
       "         -1.88302362, -1.10014396, -1.0274952 , -0.9197704 , -0.69325453,\n",
       "         -0.20014396, -0.0502472 ,  0.152043  ,  0.29985604,  0.35642633,\n",
       "          0.86687313,  1.17334959,  1.20105932,  1.29734994,  1.74619542,\n",
       "          2.10328764,  2.34995929,  2.46436703,  4.16373815,  5.98107439,\n",
       "          6.42197917,  6.87271129])),\n",
       " (3.0327797489458974, -8.0741430417464269e-15, 0.97566744517913206))"
      ]
     },
     "execution_count": 13,
     "metadata": {},
     "output_type": "execute_result"
    },
    {
     "data": {
      "image/png": "[encoded data removed]",
      "text/plain": [
       "<matplotlib.figure.Figure at 0xb9607f0>"
      ]
     },
     "metadata": {},
     "output_type": "display_data"
    }
   ],
   "source": [
    "plt.figure(figsize=(9,9))\n",
    "\n",
    "stats.probplot(residuals, dist=\"norm\", plot=plt)"
   ]
  },
  {
   "cell_type": "markdown",
   "metadata": {},
   "source": [
    "When residuals are normally distributed, they tend to lie along the straight line on the Q-Q plot. In this case residuals appear to follow a slightly non-linear pattern: the residuals are bowed a bit away from the normality line on each end. This is an indication that simple straight line might not be sufficient to fully describe the relationship between weight and mpg."
   ]
  },
  {
   "cell_type": "markdown",
   "metadata": {},
   "source": [
    "Root mean squared error (RMSE) is a common evaluation metric for predictions involving real numbers. Root mean squared error is square root of the average of the squared error (residuals.). "
   ]
  },
  {
   "cell_type": "code",
   "execution_count": 14,
   "metadata": {},
   "outputs": [
    {
     "data": {
      "text/plain": [
       "2.9491626859550282"
      ]
     },
     "execution_count": 14,
     "metadata": {},
     "output_type": "execute_result"
    }
   ],
   "source": [
    "from sklearn.metrics import mean_squared_error\n",
    "\n",
    "RMSE = mean_squared_error(train_prediction, mtcars[\"mpg\"])**0.5\n",
    "\n",
    "RMSE"
   ]
  },
  {
   "cell_type": "markdown",
   "metadata": {},
   "source": [
    "### Polynomial Regression"
   ]
  },
  {
   "cell_type": "markdown",
   "metadata": {},
   "source": [
    "Variables often exhibit non-linear relationships that can't be fit well with a straight line. In these cases, we can use linear regression to fit a curved line the data by adding extra higher order terms (squared, cubic, etc.) to the model. A linear regression that involves higher order terms is known as \"polynomial regression.\""
   ]
  },
  {
   "cell_type": "code",
   "execution_count": 15,
   "metadata": {},
   "outputs": [
    {
     "name": "stdout",
     "output_type": "stream",
     "text": [
      "Model intercept\n",
      "49.9308109495\n",
      "Model Coefficients\n",
      "[-13.38033708   1.17108689]\n",
      "R squared: 0.8190613581384095, Adjusted R squared: 0.8065828311134723\n"
     ]
    }
   ],
   "source": [
    "\n",
    "# Initialize model\n",
    "poly_model = linear_model.LinearRegression()\n",
    "\n",
    "# Make a DataFrame of predictor variables\n",
    "predictors = pd.DataFrame([mtcars[\"wt\"],           # Include weight\n",
    "                           mtcars[\"wt\"]**2]).T     # Include weight squared\n",
    "\n",
    "# Train the model using the new_cars data\n",
    "poly_model.fit(X = predictors, \n",
    "               y = mtcars[\"mpg\"])\n",
    "\n",
    "# Check trained model y-intercept\n",
    "print(\"Model intercept\")\n",
    "print(poly_model.intercept_)\n",
    "\n",
    "# Check trained model coefficients (scaling factor given to \"wt\")\n",
    "print(\"Model Coefficients\")\n",
    "print(poly_model.coef_)\n",
    "\n",
    "# Check R-squared\n",
    "poly_model.score(X = predictors, \n",
    "                 y = mtcars[\"mpg\"])\n",
    "print (\"R squared: {0}, Adjusted R squared: {1}\".format(poly_model.score(X=predictors, y=mtcars['mpg']),\n",
    "       1 - (1-poly_model.score(X=predictors, y=mtcars['mpg']))*(len(mtcars['mpg'])-1)/(len(mtcars['mpg'])-predictors.shape[1]-1)))"
   ]
  },
  {
   "cell_type": "code",
   "execution_count": 16,
   "metadata": {},
   "outputs": [
    {
     "data": {
      "text/plain": [
       "[<matplotlib.lines.Line2D at 0xba5e470>]"
      ]
     },
     "execution_count": 16,
     "metadata": {},
     "output_type": "execute_result"
    },
    {
     "data": {
      "image/png": "[encoded data removed]",
      "text/plain": [
       "<matplotlib.figure.Figure at 0xb9c0b00>"
      ]
     },
     "metadata": {},
     "output_type": "display_data"
    }
   ],
   "source": [
    "# Plot the curve from 1.5 to 5.5\n",
    "poly_line_range = np.arange(1.5, 5.5, 0.1)\n",
    "\n",
    "# Get first and second order predictors from range\n",
    "poly_predictors = pd.DataFrame([poly_line_range,\n",
    "                               poly_line_range**2]).T\n",
    "\n",
    "# Get corresponding y values from the model\n",
    "y_values = poly_model.predict(X = poly_predictors)\n",
    "\n",
    "mtcars.plot(kind=\"scatter\",\n",
    "           x=\"wt\",\n",
    "           y=\"mpg\",\n",
    "           figsize=(9,9),\n",
    "           color=\"black\",\n",
    "           xlim = (0,7))\n",
    "\n",
    "# Plot curve line\n",
    "plt.plot(poly_line_range,   # X-axis range\n",
    "         y_values,          # Predicted values\n",
    "         color=\"blue\")"
   ]
  },
  {
   "cell_type": "code",
   "execution_count": 18,
   "metadata": {},
   "outputs": [
    {
     "data": {
      "text/plain": [
       "2.5233004724610786"
      ]
     },
     "execution_count": 18,
     "metadata": {},
     "output_type": "execute_result"
    }
   ],
   "source": [
    "preds = poly_model.predict(X=predictors)\n",
    "\n",
    "mean_squared_error(preds , mtcars[\"mpg\"])**0.5"
   ]
  },
  {
   "cell_type": "markdown",
   "metadata": {},
   "source": [
    "Since the RMSE of the quadratic model is lower than the old one and the adjusted R-squared is higher, it is probably a better model. We do, however, have to be careful about overfitting the training data."
   ]
  },
  {
   "cell_type": "markdown",
   "metadata": {},
   "source": [
    "Overfitting describes a situation where our model fits the data we use to create it (training data) too closely, resulting in poor generalization to new data. This is why we generally don't want to use training data to evaluate a model: it gives us a biased, usually overly optimistic evaluation. One of the strengths of first and second order linear regression is that they are so simple, they are unlikely to overfit data very much. The more complex the model we create and the more freedom it has to fit the training data, the greater risk we run of overfitting. For example, we could keep including more polynomial terms in our regression model to fit the training data more closely and achieve lower RMSE scores against the training set, but this would almost certainly not generalize well to new data. Let's illustrate this point by fitting a 10th order model to the mtcars data:"
   ]
  },
  {
   "cell_type": "code",
   "execution_count": 19,
   "metadata": {},
   "outputs": [
    {
     "name": "stdout",
     "output_type": "stream",
     "text": [
      "Model intercept\n",
      "-14921.120656\n",
      "Model Coefficients\n",
      "[  6.45813583e+04  -1.20086135e+05   1.26931932e+05  -8.46598480e+04\n",
      "   3.73155209e+04  -1.10334758e+04   2.16590409e+03  -2.70730550e+02\n",
      "   1.94974165e+01  -6.15515447e-01]\n"
     ]
    },
    {
     "data": {
      "text/plain": [
       "0.8702106588235019"
      ]
     },
     "execution_count": 19,
     "metadata": {},
     "output_type": "execute_result"
    }
   ],
   "source": [
    "# Initialize model\n",
    "poly_model = linear_model.LinearRegression()\n",
    "\n",
    "# Make a DataFrame of predictor variables\n",
    "predictors = pd.DataFrame([mtcars[\"wt\"],           \n",
    "                           mtcars[\"wt\"]**2,\n",
    "                           mtcars[\"wt\"]**3,\n",
    "                           mtcars[\"wt\"]**4,\n",
    "                           mtcars[\"wt\"]**5,\n",
    "                           mtcars[\"wt\"]**6,\n",
    "                           mtcars[\"wt\"]**7,\n",
    "                           mtcars[\"wt\"]**8,\n",
    "                           mtcars[\"wt\"]**9,\n",
    "                           mtcars[\"wt\"]**10]).T     \n",
    "\n",
    "# Train the model using the new_cars data\n",
    "poly_model.fit(X = predictors, \n",
    "               y = mtcars[\"mpg\"])\n",
    "\n",
    "# Check trained model y-intercept\n",
    "print(\"Model intercept\")\n",
    "print(poly_model.intercept_)\n",
    "\n",
    "# Check trained model coefficients (scaling factor given to \"wt\")\n",
    "print(\"Model Coefficients\")\n",
    "print(poly_model.coef_)\n",
    "\n",
    "# Check R-squared\n",
    "poly_model.score(X = predictors, \n",
    "                 y = mtcars[\"mpg\"])"
   ]
  },
  {
   "cell_type": "code",
   "execution_count": 20,
   "metadata": {},
   "outputs": [
    {
     "data": {
      "text/plain": [
       "[<matplotlib.lines.Line2D at 0xba61198>]"
      ]
     },
     "execution_count": 20,
     "metadata": {},
     "output_type": "execute_result"
    },
    {
     "data": {
      "image/png": "[encoded data removed]",
      "text/plain": [
       "<matplotlib.figure.Figure at 0xba93f60>"
      ]
     },
     "metadata": {},
     "output_type": "display_data"
    }
   ],
   "source": [
    "p_range = np.arange(1.5, 5.45, 0.01)\n",
    "\n",
    "poly_predictors = pd.DataFrame([p_range, p_range**2, p_range**3,\n",
    "                              p_range**4, p_range**5, p_range**6, p_range**7, \n",
    "                              p_range**8, p_range**9, p_range**10]).T  \n",
    "\n",
    "# Get corresponding y values from the model\n",
    "y_values = poly_model.predict(X = poly_predictors)\n",
    "\n",
    "mtcars.plot(kind=\"scatter\",\n",
    "           x=\"wt\",\n",
    "           y=\"mpg\",\n",
    "           figsize=(9,9),\n",
    "           color=\"black\",\n",
    "           xlim = (0,7))\n",
    "\n",
    "# Plot curve line\n",
    "plt.plot(p_range,   # X-axis range\n",
    "         y_values,          # Predicted values\n",
    "         color=\"blue\")"
   ]
  },
  {
   "cell_type": "markdown",
   "metadata": {},
   "source": [
    "the 10th order polynomial model curves wildly in some places to fit the training data. While this model happens to yield a closer fit to the training data, it will almost certainly fail to generalize well to new data as it leads to absurd predictions such as a car having less than 0 mpg if it weighs 5000lbs."
   ]
  },
  {
   "cell_type": "markdown",
   "metadata": {},
   "source": [
    "### Multiple Linear Regression\n"
   ]
  },
  {
   "cell_type": "code",
   "execution_count": 21,
   "metadata": {},
   "outputs": [
    {
     "name": "stdout",
     "output_type": "stream",
     "text": [
      "37.2272701164\n",
      "[-3.87783074 -0.03177295]\n"
     ]
    },
    {
     "data": {
      "text/plain": [
       "0.8267854518827914"
      ]
     },
     "execution_count": 21,
     "metadata": {},
     "output_type": "execute_result"
    }
   ],
   "source": [
    "# Initialize model\n",
    "multi_reg_model = linear_model.LinearRegression()\n",
    "\n",
    "# Train the model using the mtcars data\n",
    "multi_reg_model.fit(X = mtcars.ix[:,[\"wt\",\"hp\"]], \n",
    "                     y = mtcars[\"mpg\"])\n",
    "\n",
    "# Check trained model y-intercept\n",
    "print(multi_reg_model.intercept_)\n",
    "\n",
    "# Check trained model coefficients (scaling factor given to \"wt\")\n",
    "print(multi_reg_model.coef_)\n",
    "\n",
    "# Check R-squared\n",
    "multi_reg_model.score(X = mtcars.ix[:,[\"wt\",\"hp\"]], \n",
    "                      y = mtcars[\"mpg\"])"
   ]
  },
  {
   "cell_type": "markdown",
   "metadata": {},
   "source": [
    "The improved R-squared score suggests horsepower has a linear relationship with mpg. Let's investigate with a plot:"
   ]
  },
  {
   "cell_type": "code",
   "execution_count": 22,
   "metadata": {},
   "outputs": [
    {
     "data": {
      "text/plain": [
       "<matplotlib.axes._subplots.AxesSubplot at 0xb239438>"
      ]
     },
     "execution_count": 22,
     "metadata": {},
     "output_type": "execute_result"
    },
    {
     "data": {
      "image/png": "[encoded data removed]",
      "text/plain": [
       "<matplotlib.figure.Figure at 0xbb07cc0>"
      ]
     },
     "metadata": {},
     "output_type": "display_data"
    }
   ],
   "source": [
    "mtcars.plot(kind=\"scatter\",\n",
    "           x=\"hp\",\n",
    "           y=\"mpg\",\n",
    "           figsize=(9,9),\n",
    "           color=\"black\")"
   ]
  },
  {
   "cell_type": "markdown",
   "metadata": {},
   "source": [
    "While mpg does tend to decline with horsepower, the relationship appears more curved than linear so adding polynomial terms to our multiple regression model could yield a better fit:"
   ]
  },
  {
   "cell_type": "code",
   "execution_count": 25,
   "metadata": {},
   "outputs": [
    {
     "name": "stdout",
     "output_type": "stream",
     "text": [
      "R-Squared\n",
      "0.890727954967\n",
      "RMSE\n",
      "1.96091081342\n"
     ]
    }
   ],
   "source": [
    "# Initialize model\n",
    "multi_reg_model = linear_model.LinearRegression()\n",
    "\n",
    "# Include squared terms\n",
    "poly_predictors = pd.DataFrame([mtcars[\"wt\"],\n",
    "                                mtcars[\"hp\"],\n",
    "                                mtcars[\"wt\"]**2,\n",
    "                                mtcars[\"hp\"]**2]).T\n",
    "\n",
    "# Train the model using the mtcars data\n",
    "multi_reg_model.fit(X = poly_predictors, \n",
    "                    y = mtcars[\"mpg\"])\n",
    "\n",
    "# Check R-squared\n",
    "print(\"R-Squared\")\n",
    "print( multi_reg_model.score(X = poly_predictors , \n",
    "                      y = mtcars[\"mpg\"]) )\n",
    "\n",
    "# Check RMSE\n",
    "print(\"RMSE\")\n",
    "print(mean_squared_error(multi_reg_model.predict(poly_predictors),mtcars[\"mpg\"])**0.5)"
   ]
  },
  {
   "cell_type": "markdown",
   "metadata": {},
   "source": [
    "The new R-squared and lower RMSE suggest this is a better model than any we made previously and we wouldn't be too concerned about overfitting since it only includes 2 variables and 2 squared terms. "
   ]
  },
  {
   "cell_type": "code",
   "execution_count": null,
   "metadata": {
    "collapsed": true
   },
   "outputs": [],
   "source": []
  }
 ],
 "metadata": {
  "kernelspec": {
   "display_name": "Python 3",
   "language": "python",
   "name": "python3"
  },
  "language_info": {
   "codemirror_mode": {
    "name": "ipython",
    "version": 3
   },
   "file_extension": ".py",
   "mimetype": "text/x-python",
   "name": "python",
   "nbconvert_exporter": "python",
   "pygments_lexer": "ipython3",
   "version": "3.5.3"
  }
 },
 "nbformat": 4,
 "nbformat_minor": 2
}
