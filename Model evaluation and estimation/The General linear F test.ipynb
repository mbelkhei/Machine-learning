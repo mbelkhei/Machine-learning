{
 "cells": [
  {
   "cell_type": "markdown",
   "metadata": {},
   "source": [
    "# The General Linear F test"
   ]
  },
  {
   "cell_type": "markdown",
   "metadata": {},
   "source": [
    "The \"general linear F-test\" involves three basic steps, namely:\n",
    "\n",
    "1-  Define a larger full model. (By \"larger,\" we mean one with more parameters.)\n",
    "\n",
    "2-  Define a smaller reduced model. (By \"smaller,\" we mean one with fewer parameters.)\n",
    "\n",
    "3-  Use an F-statistic to decide whether or not to reject the smaller reduced model in favor of the larger full model.\n",
    "\n",
    "The GL F test helps to determine whether it is feasable to drop certain dependent variables that are not statistically significant. This method could be useful when trying to build a simpler model"
   ]
  },
  {
   "cell_type": "code",
   "execution_count": 1,
   "metadata": {
    "collapsed": true
   },
   "outputs": [],
   "source": [
    "import numpy as np\n",
    "import pandas as pd\n",
    "from scipy import stats\n",
    "\n",
    "import seaborn as sns\n",
    "import matplotlib.pyplot as plt\n",
    "%matplotlib inline\n",
    "\n",
    "from sklearn.linear_model import LinearRegression\n",
    "\n",
    "\n"
   ]
  },
  {
   "cell_type": "markdown",
   "metadata": {},
   "source": [
    "This dataset consists of variables possibly relating to blood pressures of n = 39 Peruvians who have moved from rural high altitude areas to urban lower altitude areas"
   ]
  },
  {
   "cell_type": "code",
   "execution_count": 2,
   "metadata": {
    "collapsed": true
   },
   "outputs": [],
   "source": [
    "data = pd.read_csv('peru.csv',delimiter='\\t') # load data"
   ]
  },
  {
   "cell_type": "code",
   "execution_count": 3,
   "metadata": {},
   "outputs": [
    {
     "data": {
      "text/html": [
       "<div>\n",
       "<style>\n",
       "    .dataframe thead tr:only-child th {\n",
       "        text-align: right;\n",
       "    }\n",
       "\n",
       "    .dataframe thead th {\n",
       "        text-align: left;\n",
       "    }\n",
       "\n",
       "    .dataframe tbody tr th {\n",
       "        vertical-align: top;\n",
       "    }\n",
       "</style>\n",
       "<table border=\"1\" class=\"dataframe\">\n",
       "  <thead>\n",
       "    <tr style=\"text-align: right;\">\n",
       "      <th></th>\n",
       "      <th>Age</th>\n",
       "      <th>Years</th>\n",
       "      <th>Weight</th>\n",
       "      <th>Height</th>\n",
       "      <th>Chin</th>\n",
       "      <th>Forearm</th>\n",
       "      <th>Calf</th>\n",
       "      <th>Pulse</th>\n",
       "      <th>Systol</th>\n",
       "      <th>Diastol</th>\n",
       "    </tr>\n",
       "  </thead>\n",
       "  <tbody>\n",
       "    <tr>\n",
       "      <th>0</th>\n",
       "      <td>21</td>\n",
       "      <td>1</td>\n",
       "      <td>71.0</td>\n",
       "      <td>1629</td>\n",
       "      <td>8.0</td>\n",
       "      <td>7.0</td>\n",
       "      <td>12.7</td>\n",
       "      <td>88</td>\n",
       "      <td>170</td>\n",
       "      <td>76</td>\n",
       "    </tr>\n",
       "    <tr>\n",
       "      <th>1</th>\n",
       "      <td>22</td>\n",
       "      <td>6</td>\n",
       "      <td>56.5</td>\n",
       "      <td>1569</td>\n",
       "      <td>3.3</td>\n",
       "      <td>5.0</td>\n",
       "      <td>8.0</td>\n",
       "      <td>64</td>\n",
       "      <td>120</td>\n",
       "      <td>60</td>\n",
       "    </tr>\n",
       "    <tr>\n",
       "      <th>2</th>\n",
       "      <td>24</td>\n",
       "      <td>5</td>\n",
       "      <td>56.0</td>\n",
       "      <td>1561</td>\n",
       "      <td>3.3</td>\n",
       "      <td>1.3</td>\n",
       "      <td>4.3</td>\n",
       "      <td>68</td>\n",
       "      <td>125</td>\n",
       "      <td>75</td>\n",
       "    </tr>\n",
       "    <tr>\n",
       "      <th>3</th>\n",
       "      <td>24</td>\n",
       "      <td>1</td>\n",
       "      <td>61.0</td>\n",
       "      <td>1619</td>\n",
       "      <td>3.7</td>\n",
       "      <td>3.0</td>\n",
       "      <td>4.3</td>\n",
       "      <td>52</td>\n",
       "      <td>148</td>\n",
       "      <td>120</td>\n",
       "    </tr>\n",
       "    <tr>\n",
       "      <th>4</th>\n",
       "      <td>25</td>\n",
       "      <td>1</td>\n",
       "      <td>65.0</td>\n",
       "      <td>1566</td>\n",
       "      <td>9.0</td>\n",
       "      <td>12.7</td>\n",
       "      <td>20.7</td>\n",
       "      <td>72</td>\n",
       "      <td>140</td>\n",
       "      <td>78</td>\n",
       "    </tr>\n",
       "  </tbody>\n",
       "</table>\n",
       "</div>"
      ],
      "text/plain": [
       "   Age  Years  Weight  Height  Chin  Forearm  Calf  Pulse  Systol  Diastol\n",
       "0   21      1    71.0    1629   8.0      7.0  12.7     88     170       76\n",
       "1   22      6    56.5    1569   3.3      5.0   8.0     64     120       60\n",
       "2   24      5    56.0    1561   3.3      1.3   4.3     68     125       75\n",
       "3   24      1    61.0    1619   3.7      3.0   4.3     52     148      120\n",
       "4   25      1    65.0    1566   9.0     12.7  20.7     72     140       78"
      ]
     },
     "execution_count": 3,
     "metadata": {},
     "output_type": "execute_result"
    }
   ],
   "source": [
    "data.head() # overview"
   ]
  },
  {
   "cell_type": "code",
   "execution_count": 4,
   "metadata": {},
   "outputs": [
    {
     "data": {
      "text/html": [
       "<div>\n",
       "<style>\n",
       "    .dataframe thead tr:only-child th {\n",
       "        text-align: right;\n",
       "    }\n",
       "\n",
       "    .dataframe thead th {\n",
       "        text-align: left;\n",
       "    }\n",
       "\n",
       "    .dataframe tbody tr th {\n",
       "        vertical-align: top;\n",
       "    }\n",
       "</style>\n",
       "<table border=\"1\" class=\"dataframe\">\n",
       "  <thead>\n",
       "    <tr style=\"text-align: right;\">\n",
       "      <th></th>\n",
       "      <th>Age</th>\n",
       "      <th>Years</th>\n",
       "      <th>Weight</th>\n",
       "      <th>Height</th>\n",
       "      <th>Chin</th>\n",
       "      <th>Forearm</th>\n",
       "      <th>Calf</th>\n",
       "      <th>Pulse</th>\n",
       "      <th>Systol</th>\n",
       "      <th>Diastol</th>\n",
       "      <th>FracLife</th>\n",
       "    </tr>\n",
       "  </thead>\n",
       "  <tbody>\n",
       "    <tr>\n",
       "      <th>count</th>\n",
       "      <td>39.000000</td>\n",
       "      <td>39.000000</td>\n",
       "      <td>39.000000</td>\n",
       "      <td>39.000000</td>\n",
       "      <td>39.000000</td>\n",
       "      <td>39.000000</td>\n",
       "      <td>39.000000</td>\n",
       "      <td>39.000000</td>\n",
       "      <td>39.000000</td>\n",
       "      <td>39.000000</td>\n",
       "      <td>39.000000</td>\n",
       "    </tr>\n",
       "    <tr>\n",
       "      <th>mean</th>\n",
       "      <td>36.538462</td>\n",
       "      <td>14.743590</td>\n",
       "      <td>63.158974</td>\n",
       "      <td>1578.923077</td>\n",
       "      <td>5.848718</td>\n",
       "      <td>5.066667</td>\n",
       "      <td>8.251282</td>\n",
       "      <td>70.307692</td>\n",
       "      <td>127.410256</td>\n",
       "      <td>76.179487</td>\n",
       "      <td>0.386334</td>\n",
       "    </tr>\n",
       "    <tr>\n",
       "      <th>std</th>\n",
       "      <td>7.687468</td>\n",
       "      <td>10.093557</td>\n",
       "      <td>7.098878</td>\n",
       "      <td>52.694944</td>\n",
       "      <td>2.722312</td>\n",
       "      <td>2.294425</td>\n",
       "      <td>4.061752</td>\n",
       "      <td>9.498348</td>\n",
       "      <td>13.110297</td>\n",
       "      <td>11.688663</td>\n",
       "      <td>0.229837</td>\n",
       "    </tr>\n",
       "    <tr>\n",
       "      <th>min</th>\n",
       "      <td>21.000000</td>\n",
       "      <td>1.000000</td>\n",
       "      <td>53.000000</td>\n",
       "      <td>1473.000000</td>\n",
       "      <td>3.000000</td>\n",
       "      <td>1.300000</td>\n",
       "      <td>0.000000</td>\n",
       "      <td>52.000000</td>\n",
       "      <td>106.000000</td>\n",
       "      <td>54.000000</td>\n",
       "      <td>0.021277</td>\n",
       "    </tr>\n",
       "    <tr>\n",
       "      <th>25%</th>\n",
       "      <td>32.500000</td>\n",
       "      <td>8.000000</td>\n",
       "      <td>57.000000</td>\n",
       "      <td>1537.000000</td>\n",
       "      <td>3.300000</td>\n",
       "      <td>3.300000</td>\n",
       "      <td>5.700000</td>\n",
       "      <td>64.000000</td>\n",
       "      <td>118.000000</td>\n",
       "      <td>70.000000</td>\n",
       "      <td>0.227390</td>\n",
       "    </tr>\n",
       "    <tr>\n",
       "      <th>50%</th>\n",
       "      <td>38.000000</td>\n",
       "      <td>13.000000</td>\n",
       "      <td>62.500000</td>\n",
       "      <td>1572.000000</td>\n",
       "      <td>5.300000</td>\n",
       "      <td>5.000000</td>\n",
       "      <td>7.700000</td>\n",
       "      <td>72.000000</td>\n",
       "      <td>126.000000</td>\n",
       "      <td>76.000000</td>\n",
       "      <td>0.393939</td>\n",
       "    </tr>\n",
       "    <tr>\n",
       "      <th>75%</th>\n",
       "      <td>41.500000</td>\n",
       "      <td>19.000000</td>\n",
       "      <td>68.000000</td>\n",
       "      <td>1627.000000</td>\n",
       "      <td>7.650000</td>\n",
       "      <td>5.850000</td>\n",
       "      <td>11.300000</td>\n",
       "      <td>76.000000</td>\n",
       "      <td>134.000000</td>\n",
       "      <td>81.000000</td>\n",
       "      <td>0.526374</td>\n",
       "    </tr>\n",
       "    <tr>\n",
       "      <th>max</th>\n",
       "      <td>54.000000</td>\n",
       "      <td>43.000000</td>\n",
       "      <td>87.000000</td>\n",
       "      <td>1653.000000</td>\n",
       "      <td>12.000000</td>\n",
       "      <td>12.700000</td>\n",
       "      <td>20.700000</td>\n",
       "      <td>92.000000</td>\n",
       "      <td>170.000000</td>\n",
       "      <td>120.000000</td>\n",
       "      <td>0.892857</td>\n",
       "    </tr>\n",
       "  </tbody>\n",
       "</table>\n",
       "</div>"
      ],
      "text/plain": [
       "             Age      Years     Weight       Height       Chin    Forearm  \\\n",
       "count  39.000000  39.000000  39.000000    39.000000  39.000000  39.000000   \n",
       "mean   36.538462  14.743590  63.158974  1578.923077   5.848718   5.066667   \n",
       "std     7.687468  10.093557   7.098878    52.694944   2.722312   2.294425   \n",
       "min    21.000000   1.000000  53.000000  1473.000000   3.000000   1.300000   \n",
       "25%    32.500000   8.000000  57.000000  1537.000000   3.300000   3.300000   \n",
       "50%    38.000000  13.000000  62.500000  1572.000000   5.300000   5.000000   \n",
       "75%    41.500000  19.000000  68.000000  1627.000000   7.650000   5.850000   \n",
       "max    54.000000  43.000000  87.000000  1653.000000  12.000000  12.700000   \n",
       "\n",
       "            Calf      Pulse      Systol     Diastol   FracLife  \n",
       "count  39.000000  39.000000   39.000000   39.000000  39.000000  \n",
       "mean    8.251282  70.307692  127.410256   76.179487   0.386334  \n",
       "std     4.061752   9.498348   13.110297   11.688663   0.229837  \n",
       "min     0.000000  52.000000  106.000000   54.000000   0.021277  \n",
       "25%     5.700000  64.000000  118.000000   70.000000   0.227390  \n",
       "50%     7.700000  72.000000  126.000000   76.000000   0.393939  \n",
       "75%    11.300000  76.000000  134.000000   81.000000   0.526374  \n",
       "max    20.700000  92.000000  170.000000  120.000000   0.892857  "
      ]
     },
     "execution_count": 4,
     "metadata": {},
     "output_type": "execute_result"
    }
   ],
   "source": [
    "data['FracLife'] = data['Years']/data['Age'] # create a new variable\n",
    "data.describe() # describe the dataset"
   ]
  },
  {
   "cell_type": "code",
   "execution_count": 5,
   "metadata": {
    "collapsed": true
   },
   "outputs": [],
   "source": [
    "c = data.columns.tolist() # create a list of variables \n",
    "c.append('') # append empty "
   ]
  },
  {
   "cell_type": "code",
   "execution_count": 6,
   "metadata": {
    "scrolled": false
   },
   "outputs": [
    {
     "data": {
      "image/png": "[encoded data removed]",
      "text/plain": [
       "<matplotlib.figure.Figure at 0x963b066b38>"
      ]
     },
     "metadata": {},
     "output_type": "display_data"
    }
   ],
   "source": [
    "fig, ax = plt.subplots(4,3,figsize=(15,15)) # plot boxgraphs\n",
    "new_shape = np.array(c).reshape(-1,3)\n",
    "for ind,row in enumerate(new_shape):\n",
    "    for j,i in enumerate(row):\n",
    "        if i=='':\n",
    "            break\n",
    "        sns.boxplot(data[i], ax=ax[ind][j])"
   ]
  },
  {
   "cell_type": "code",
   "execution_count": 7,
   "metadata": {
    "collapsed": true
   },
   "outputs": [],
   "source": [
    "y= data['Systol'] # target variable\n",
    "X= data.drop(['Systol','Diastol'], axis=1) # drop the target"
   ]
  },
  {
   "cell_type": "code",
   "execution_count": 8,
   "metadata": {},
   "outputs": [
    {
     "data": {
      "text/plain": [
       "((39, 9), (39,))"
      ]
     },
     "execution_count": 8,
     "metadata": {},
     "output_type": "execute_result"
    }
   ],
   "source": [
    "X.shape,y.shape "
   ]
  },
  {
   "cell_type": "code",
   "execution_count": 9,
   "metadata": {},
   "outputs": [
    {
     "data": {
      "text/plain": [
       "LinearRegression(copy_X=True, fit_intercept=True, n_jobs=1, normalize=False)"
      ]
     },
     "execution_count": 9,
     "metadata": {},
     "output_type": "execute_result"
    }
   ],
   "source": [
    "lr = LinearRegression() # initialize linearRegression\n",
    "lr.fit(X,y) # fit the model"
   ]
  },
  {
   "cell_type": "code",
   "execution_count": 10,
   "metadata": {
    "collapsed": true
   },
   "outputs": [],
   "source": [
    "y_pred = lr.predict(X) # predict variables"
   ]
  },
  {
   "cell_type": "code",
   "execution_count": 11,
   "metadata": {
    "collapsed": true
   },
   "outputs": [],
   "source": [
    "residuals = y-y_pred # residuals"
   ]
  },
  {
   "cell_type": "code",
   "execution_count": 12,
   "metadata": {},
   "outputs": [
    {
     "data": {
      "text/plain": [
       "<matplotlib.lines.Line2D at 0x963b043da0>"
      ]
     },
     "execution_count": 12,
     "metadata": {},
     "output_type": "execute_result"
    },
    {
     "data": {
      "image/png": "[encoded data removed]",
      "text/plain": [
       "<matplotlib.figure.Figure at 0x963b043198>"
      ]
     },
     "metadata": {},
     "output_type": "display_data"
    }
   ],
   "source": [
    "plt.scatter(y_pred,residuals) # check residuals plot\n",
    "plt.axhline(y=0,ls='dashed',c='grey', alpha=0.5)"
   ]
  },
  {
   "cell_type": "code",
   "execution_count": 13,
   "metadata": {
    "collapsed": true
   },
   "outputs": [],
   "source": [
    "# this function return degrees of freedom, sum of squares and mean squared errors. \n",
    "# in addition it creates a summary of ['Coefficients','Standard Errors','t values','Probabilites'] in a Dataframe format\n",
    "def reg_summary(X,y):\n",
    "    lr = LinearRegression()\n",
    "    lr.fit(X,y)\n",
    "\n",
    "    if lr.intercept_ == 0:\n",
    "        params = np.array(lr.coef_)\n",
    "    else:\n",
    "        params = np.append(lr.intercept_,lr.coef_)\n",
    "    \n",
    "    predictions = lr.predict(X)\n",
    "\n",
    "    newX = pd.DataFrame({\"Constant\":np.ones(len(X))}).join(pd.DataFrame(X))\n",
    "    deg_f = len(newX)-len(newX.columns)\n",
    "    SSE = sum((y-predictions)**2)\n",
    "    MSE = (sum((y-predictions)**2))/deg_f\n",
    "\n",
    "\n",
    "    var_b = MSE*(np.linalg.inv(np.dot(newX.T,newX)).diagonal())\n",
    "    sd_b = np.sqrt(var_b)\n",
    "    ts_b = params/sd_b\n",
    "\n",
    "    p_values =[2*(1-stats.t.cdf(np.abs(i),(len(newX)-1))) for i in ts_b]\n",
    "\n",
    "    sd_b = np.round(sd_b,3)\n",
    "    ts_b = np.round(ts_b,3)\n",
    "    p_values = np.round(p_values,3)\n",
    "    params = np.round(params,4)\n",
    "\n",
    "    df = pd.DataFrame()\n",
    "    df[\"Coefficients\"],df[\"Standard Errors\"],df[\"t values\"],df[\"Probabilites\"] = [params,sd_b,ts_b,p_values]\n",
    "    coef = X.columns.tolist()\n",
    "    if lr.intercept_==0:\n",
    "        df.index = coef\n",
    "    else:\n",
    "        coef.insert(0,'constant')\n",
    "        df.index = coef\n",
    "    return deg_f, SSE, MSE, df"
   ]
  },
  {
   "cell_type": "code",
   "execution_count": 14,
   "metadata": {
    "collapsed": true
   },
   "outputs": [],
   "source": [
    "from sklearn.metrics import r2_score"
   ]
  },
  {
   "cell_type": "code",
   "execution_count": 15,
   "metadata": {},
   "outputs": [
    {
     "data": {
      "text/plain": [
       "(29, 2172.5839795318152, 74.91668894937294)"
      ]
     },
     "execution_count": 15,
     "metadata": {},
     "output_type": "execute_result"
    }
   ],
   "source": [
    "df_er_f,SSE_f, MSE_f, df_f = reg_summary(X,y)\n",
    "df_er_f,SSE_f, MSE_f"
   ]
  },
  {
   "cell_type": "code",
   "execution_count": 16,
   "metadata": {},
   "outputs": [
    {
     "data": {
      "text/plain": [
       "0.6673650306535619"
      ]
     },
     "execution_count": 16,
     "metadata": {},
     "output_type": "execute_result"
    }
   ],
   "source": [
    "r2_score(y,y_pred)"
   ]
  },
  {
   "cell_type": "code",
   "execution_count": 17,
   "metadata": {},
   "outputs": [
    {
     "data": {
      "text/html": [
       "<div>\n",
       "<style>\n",
       "    .dataframe thead tr:only-child th {\n",
       "        text-align: right;\n",
       "    }\n",
       "\n",
       "    .dataframe thead th {\n",
       "        text-align: left;\n",
       "    }\n",
       "\n",
       "    .dataframe tbody tr th {\n",
       "        vertical-align: top;\n",
       "    }\n",
       "</style>\n",
       "<table border=\"1\" class=\"dataframe\">\n",
       "  <thead>\n",
       "    <tr style=\"text-align: right;\">\n",
       "      <th></th>\n",
       "      <th>Coefficients</th>\n",
       "      <th>Standard Errors</th>\n",
       "      <th>t values</th>\n",
       "      <th>Probabilites</th>\n",
       "    </tr>\n",
       "  </thead>\n",
       "  <tbody>\n",
       "    <tr>\n",
       "      <th>constant</th>\n",
       "      <td>146.8191</td>\n",
       "      <td>48.971</td>\n",
       "      <td>2.998</td>\n",
       "      <td>0.005</td>\n",
       "    </tr>\n",
       "    <tr>\n",
       "      <th>Age</th>\n",
       "      <td>-1.1214</td>\n",
       "      <td>0.327</td>\n",
       "      <td>-3.425</td>\n",
       "      <td>0.001</td>\n",
       "    </tr>\n",
       "    <tr>\n",
       "      <th>Years</th>\n",
       "      <td>2.4554</td>\n",
       "      <td>0.815</td>\n",
       "      <td>3.014</td>\n",
       "      <td>0.005</td>\n",
       "    </tr>\n",
       "    <tr>\n",
       "      <th>Weight</th>\n",
       "      <td>1.4139</td>\n",
       "      <td>0.431</td>\n",
       "      <td>3.281</td>\n",
       "      <td>0.002</td>\n",
       "    </tr>\n",
       "    <tr>\n",
       "      <th>Height</th>\n",
       "      <td>-0.0346</td>\n",
       "      <td>0.037</td>\n",
       "      <td>-0.940</td>\n",
       "      <td>0.353</td>\n",
       "    </tr>\n",
       "    <tr>\n",
       "      <th>Chin</th>\n",
       "      <td>-0.9437</td>\n",
       "      <td>0.741</td>\n",
       "      <td>-1.274</td>\n",
       "      <td>0.211</td>\n",
       "    </tr>\n",
       "    <tr>\n",
       "      <th>Forearm</th>\n",
       "      <td>-1.1709</td>\n",
       "      <td>1.193</td>\n",
       "      <td>-0.981</td>\n",
       "      <td>0.333</td>\n",
       "    </tr>\n",
       "    <tr>\n",
       "      <th>Calf</th>\n",
       "      <td>-0.1587</td>\n",
       "      <td>0.537</td>\n",
       "      <td>-0.295</td>\n",
       "      <td>0.769</td>\n",
       "    </tr>\n",
       "    <tr>\n",
       "      <th>Pulse</th>\n",
       "      <td>0.1146</td>\n",
       "      <td>0.170</td>\n",
       "      <td>0.672</td>\n",
       "      <td>0.506</td>\n",
       "    </tr>\n",
       "    <tr>\n",
       "      <th>FracLife</th>\n",
       "      <td>-115.2939</td>\n",
       "      <td>30.169</td>\n",
       "      <td>-3.822</td>\n",
       "      <td>0.000</td>\n",
       "    </tr>\n",
       "  </tbody>\n",
       "</table>\n",
       "</div>"
      ],
      "text/plain": [
       "          Coefficients  Standard Errors  t values  Probabilites\n",
       "constant      146.8191           48.971     2.998         0.005\n",
       "Age            -1.1214            0.327    -3.425         0.001\n",
       "Years           2.4554            0.815     3.014         0.005\n",
       "Weight          1.4139            0.431     3.281         0.002\n",
       "Height         -0.0346            0.037    -0.940         0.353\n",
       "Chin           -0.9437            0.741    -1.274         0.211\n",
       "Forearm        -1.1709            1.193    -0.981         0.333\n",
       "Calf           -0.1587            0.537    -0.295         0.769\n",
       "Pulse           0.1146            0.170     0.672         0.506\n",
       "FracLife     -115.2939           30.169    -3.822         0.000"
      ]
     },
     "execution_count": 17,
     "metadata": {},
     "output_type": "execute_result"
    }
   ],
   "source": [
    "df_f"
   ]
  },
  {
   "cell_type": "code",
   "execution_count": 18,
   "metadata": {
    "collapsed": true
   },
   "outputs": [],
   "source": [
    "coef_ns = df_f[df_f['Probabilites']>0.05].index.tolist()"
   ]
  },
  {
   "cell_type": "code",
   "execution_count": 19,
   "metadata": {
    "collapsed": true
   },
   "outputs": [],
   "source": [
    "X_r = X.drop(coef_ns, axis=1)"
   ]
  },
  {
   "cell_type": "code",
   "execution_count": 20,
   "metadata": {
    "scrolled": true
   },
   "outputs": [
    {
     "data": {
      "text/plain": [
       "(34, 2629.7077596448835, 77.344345871908331)"
      ]
     },
     "execution_count": 20,
     "metadata": {},
     "output_type": "execute_result"
    }
   ],
   "source": [
    "df_er_r,SSE_r, MSE_r, df_r = reg_summary(X_r,y)\n",
    "df_er_r,SSE_r, MSE_r"
   ]
  },
  {
   "cell_type": "code",
   "execution_count": 21,
   "metadata": {},
   "outputs": [
    {
     "data": {
      "text/html": [
       "<div>\n",
       "<style>\n",
       "    .dataframe thead tr:only-child th {\n",
       "        text-align: right;\n",
       "    }\n",
       "\n",
       "    .dataframe thead th {\n",
       "        text-align: left;\n",
       "    }\n",
       "\n",
       "    .dataframe tbody tr th {\n",
       "        vertical-align: top;\n",
       "    }\n",
       "</style>\n",
       "<table border=\"1\" class=\"dataframe\">\n",
       "  <thead>\n",
       "    <tr style=\"text-align: right;\">\n",
       "      <th></th>\n",
       "      <th>Coefficients</th>\n",
       "      <th>Standard Errors</th>\n",
       "      <th>t values</th>\n",
       "      <th>Probabilites</th>\n",
       "    </tr>\n",
       "  </thead>\n",
       "  <tbody>\n",
       "    <tr>\n",
       "      <th>constant</th>\n",
       "      <td>116.8354</td>\n",
       "      <td>21.980</td>\n",
       "      <td>5.316</td>\n",
       "      <td>0.000</td>\n",
       "    </tr>\n",
       "    <tr>\n",
       "      <th>Age</th>\n",
       "      <td>-0.9507</td>\n",
       "      <td>0.316</td>\n",
       "      <td>-3.004</td>\n",
       "      <td>0.005</td>\n",
       "    </tr>\n",
       "    <tr>\n",
       "      <th>Years</th>\n",
       "      <td>2.3393</td>\n",
       "      <td>0.771</td>\n",
       "      <td>3.032</td>\n",
       "      <td>0.004</td>\n",
       "    </tr>\n",
       "    <tr>\n",
       "      <th>Weight</th>\n",
       "      <td>0.8324</td>\n",
       "      <td>0.275</td>\n",
       "      <td>3.022</td>\n",
       "      <td>0.004</td>\n",
       "    </tr>\n",
       "    <tr>\n",
       "      <th>FracLife</th>\n",
       "      <td>-108.0728</td>\n",
       "      <td>28.330</td>\n",
       "      <td>-3.815</td>\n",
       "      <td>0.000</td>\n",
       "    </tr>\n",
       "  </tbody>\n",
       "</table>\n",
       "</div>"
      ],
      "text/plain": [
       "          Coefficients  Standard Errors  t values  Probabilites\n",
       "constant      116.8354           21.980     5.316         0.000\n",
       "Age            -0.9507            0.316    -3.004         0.005\n",
       "Years           2.3393            0.771     3.032         0.004\n",
       "Weight          0.8324            0.275     3.022         0.004\n",
       "FracLife     -108.0728           28.330    -3.815         0.000"
      ]
     },
     "execution_count": 21,
     "metadata": {},
     "output_type": "execute_result"
    }
   ],
   "source": [
    "df_r"
   ]
  },
  {
   "cell_type": "code",
   "execution_count": 22,
   "metadata": {
    "collapsed": true
   },
   "outputs": [],
   "source": [
    "def General_linear_f_test(SSE_r,SSE_f,df_er_r,df_er_f):\n",
    "    F= ((SSE_r-SSE_f)/(df_er_r-df_er_f))/(SSE_f/df_er_f)\n",
    "    p = 1.0 - stats.f.cdf(F,df_er_r-df_er_f,df_er_f)\n",
    "    return F, p "
   ]
  },
  {
   "cell_type": "code",
   "execution_count": 23,
   "metadata": {},
   "outputs": [
    {
     "data": {
      "text/plain": [
       "(1.2203523314330735, 0.32472949656136973)"
      ]
     },
     "execution_count": 23,
     "metadata": {},
     "output_type": "execute_result"
    }
   ],
   "source": [
    "General_linear_f_test(SSE_r,SSE_f,df_er_r,df_er_f)\n"
   ]
  },
  {
   "cell_type": "code",
   "execution_count": 24,
   "metadata": {},
   "outputs": [
    {
     "data": {
      "text/plain": [
       "0.59737677886768348"
      ]
     },
     "execution_count": 24,
     "metadata": {},
     "output_type": "execute_result"
    }
   ],
   "source": [
    "r2_score(y,lr.fit(X_r,y).predict(X_r))"
   ]
  },
  {
   "cell_type": "markdown",
   "metadata": {
    "collapsed": true
   },
   "source": [
    "The p-value of the general linear F test is not at a statistically significant level, so we do not reject the null hypothesis. Thus it is feasible to drop the variables Height, Chin, Forearm, Calf, and Pulse from the model."
   ]
  },
  {
   "cell_type": "code",
   "execution_count": null,
   "metadata": {
    "collapsed": true
   },
   "outputs": [],
   "source": []
  }
 ],
 "metadata": {
  "kernelspec": {
   "display_name": "Python 3",
   "language": "python",
   "name": "python3"
  },
  "language_info": {
   "codemirror_mode": {
    "name": "ipython",
    "version": 3
   },
   "file_extension": ".py",
   "mimetype": "text/x-python",
   "name": "python",
   "nbconvert_exporter": "python",
   "pygments_lexer": "ipython3",
   "version": "3.5.4"
  }
 },
 "nbformat": 4,
 "nbformat_minor": 2
}
